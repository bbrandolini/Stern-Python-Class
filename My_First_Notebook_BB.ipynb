{
  "nbformat": 4,
  "nbformat_minor": 0,
  "metadata": {
    "colab": {
      "provenance": [],
      "authorship_tag": "ABX9TyMvWCHcxjCOaLaGDcpZ5wA3",
      "include_colab_link": true
    },
    "kernelspec": {
      "name": "python3",
      "display_name": "Python 3"
    },
    "language_info": {
      "name": "python"
    }
  },
  "cells": [
    {
      "cell_type": "markdown",
      "metadata": {
        "id": "view-in-github",
        "colab_type": "text"
      },
      "source": [
        "<a href=\"https://colab.research.google.com/github/bbrandolini/Stern-Python-Class/blob/main/My_First_Notebook_BB.ipynb\" target=\"_parent\"><img src=\"https://colab.research.google.com/assets/colab-badge.svg\" alt=\"Open In Colab\"/></a>"
      ]
    },
    {
      "cell_type": "markdown",
      "source": [
        "# My First Notebook\n",
        "### By Brando Brandolini\n",
        "Here is my list:\n",
        "+ Item 1\n",
        "+ Item 2\n",
        "+ Item 3\n"
      ],
      "metadata": {
        "id": "XnoVmjworA52"
      }
    },
    {
      "cell_type": "markdown",
      "source": [
        "## My First Notebook!\n",
        "\n",
        "This is a text cell. It uses the markdown language. The line above is a heading, starting with the \"#\" sign. Remember \"#\" means something different in Markdown than it does in Python.\n",
        "\n",
        "We can make links like [this](https://github.com/prof-rossetti/intro-to-python).\n",
        "\n",
        "And lists too:\n",
        "\n",
        "  + Item 1\n",
        "  + Item 2\n",
        "  + Item 3\n",
        "\n",
        "For more information about Markdown syntax, see the [Markdown Guide](https://www.markdownguide.org/).\n"
      ],
      "metadata": {
        "id": "6Bzuy5AkrJV0"
      }
    },
    {
      "cell_type": "code",
      "source": [
        "# This is my \"Hello World Script\"\n",
        "print(\"Hello World!\")\n",
        "print()\n",
        "\n",
        "X = 2 + 2 + 15\n",
        "print(X)\n",
        "print()\n",
        "\n",
        "Y = \"This is the world we live in!\"\n",
        "print(Y)\n"
      ],
      "metadata": {
        "colab": {
          "base_uri": "https://localhost:8080/"
        },
        "id": "LjL_U36MpUAK",
        "outputId": "5041c5c8-6b92-46f9-a83a-648147d3861f"
      },
      "execution_count": 11,
      "outputs": [
        {
          "output_type": "stream",
          "name": "stdout",
          "text": [
            "Hello World!\n",
            "\n",
            "19\n",
            "\n",
            "This is the world we live in!\n"
          ]
        }
      ]
    }
  ]
}
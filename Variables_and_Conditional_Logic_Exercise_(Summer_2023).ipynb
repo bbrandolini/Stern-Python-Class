{
  "nbformat": 4,
  "nbformat_minor": 0,
  "metadata": {
    "colab": {
      "provenance": [],
      "include_colab_link": true
    },
    "kernelspec": {
      "name": "python3",
      "display_name": "Python 3"
    },
    "language_info": {
      "name": "python"
    }
  },
  "cells": [
    {
      "cell_type": "markdown",
      "metadata": {
        "id": "view-in-github",
        "colab_type": "text"
      },
      "source": [
        "<a href=\"https://colab.research.google.com/github/bbrandolini/Stern-Python-Class/blob/main/Variables_and_Conditional_Logic_Exercise_(Summer_2023).ipynb\" target=\"_parent\"><img src=\"https://colab.research.google.com/assets/colab-badge.svg\" alt=\"Open In Colab\"/></a>"
      ]
    },
    {
      "cell_type": "markdown",
      "source": [
        "## Challenge 1: Temperature Conversion Logic"
      ],
      "metadata": {
        "id": "NcgIpssJSMkk"
      }
    },
    {
      "cell_type": "code",
      "source": [],
      "metadata": {
        "id": "4m67Xz5xiA48"
      },
      "execution_count": null,
      "outputs": []
    },
    {
      "cell_type": "markdown",
      "source": [
        "\n",
        "\n",
        "The International Space Station periodically sends back temperature readings from space, and recently sent back a report that the temperature was around **-270 degrees Celsius**.\n",
        "\n",
        "Write Python code to model the Celsius temperature concept in a variable, and then convert this Celsius temperature to Farenheit.\n",
        "\n",
        "> HINT: see conversion formulae here https://www.almanac.com/temperature-conversion-celsius-fahrenheit\n",
        "\n"
      ],
      "metadata": {
        "id": "Fe1qDUpKSQKH"
      }
    },
    {
      "cell_type": "code",
      "execution_count": 2,
      "metadata": {
        "id": "S2k3vxUeRfLU",
        "outputId": "48529fc3-3afb-4037-db5a-7f3d45288e9c",
        "colab": {
          "base_uri": "https://localhost:8080/"
        }
      },
      "outputs": [
        {
          "output_type": "stream",
          "name": "stdout",
          "text": [
            "-454.0\n"
          ]
        }
      ],
      "source": [
        "temp1 = -270\n",
        "temp2 = (temp1 * 1.8) + 32\n",
        "\n",
        "print(temp2)\n"
      ]
    },
    {
      "cell_type": "code",
      "source": [],
      "metadata": {
        "id": "Ffatod-HTdQm"
      },
      "execution_count": null,
      "outputs": []
    },
    {
      "cell_type": "code",
      "source": [],
      "metadata": {
        "id": "X3LqUWgaTdHf"
      },
      "execution_count": null,
      "outputs": []
    },
    {
      "cell_type": "markdown",
      "source": [
        "## Challenge 2: Rock Paper Scissors Winner Determination Logic"
      ],
      "metadata": {
        "id": "YxwJ2PmLRi-H"
      }
    },
    {
      "cell_type": "markdown",
      "source": [
        "Given the provided `user_choice` and `computer_choice` variables provided below, write Python code to determine which is the winner, and print who won (i.e. \"The computer wins\").\n",
        "\n",
        "\n",
        "> NOTE: rock beats paper, paper beats scissors, scissors beats rock, and same selections result in a tie.\n",
        "\n",
        "> NOTE: your solution should still work if we were to change the user choice and computer choice to other options.\n"
      ],
      "metadata": {
        "id": "thXZ640sRncX"
      }
    },
    {
      "cell_type": "code",
      "source": [
        "# SETUP CELL (RUN THIS AND DON'T MODIFY)\n",
        "\n",
        "user_choice = \"rock\"\n",
        "print(\"USER CHOSE:\", user_choice)\n",
        "\n",
        "computer_choice = \"paper\"\n",
        "print(\"COMPUTER CHOSE:\", computer_choice)"
      ],
      "metadata": {
        "colab": {
          "base_uri": "https://localhost:8080/"
        },
        "id": "EQvjgLr1Ryry",
        "outputId": "560c59c4-f064-4780-a367-d4312e91694c"
      },
      "execution_count": null,
      "outputs": [
        {
          "output_type": "stream",
          "name": "stdout",
          "text": [
            "USER CHOSE: rock\n",
            "COMPUTER CHOSE: paper\n"
          ]
        }
      ]
    },
    {
      "cell_type": "code",
      "source": [
        "# TODO: WRITE PYTHON CODE HERE TO SOLVE THE CHALLENGE\n",
        "import random\n",
        "\n",
        "options = [\"rock\", \"paper\", \"scissors\"]\n",
        "\n",
        "\"rock\" < \"paper\"\n",
        "\"paper\" < \"scissors\"\n",
        "\"scissors\" < \"rock\"\n",
        "\n",
        "\n",
        "\n",
        "\n",
        "print(\"WINNER IS...\")"
      ],
      "metadata": {
        "id": "5gs3pImORzNn"
      },
      "execution_count": null,
      "outputs": []
    },
    {
      "cell_type": "code",
      "source": [],
      "metadata": {
        "id": "oGr7mu3iRzKI"
      },
      "execution_count": null,
      "outputs": []
    },
    {
      "cell_type": "code",
      "source": [],
      "metadata": {
        "id": "KyYLVWMyRzEs"
      },
      "execution_count": null,
      "outputs": []
    }
  ]
}